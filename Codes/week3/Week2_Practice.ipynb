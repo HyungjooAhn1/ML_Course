{
 "cells": [
  {
   "cell_type": "markdown",
   "id": "b32069be",
   "metadata": {},
   "source": [
    "#### 데이터 프레임 만들기"
   ]
  },
  {
   "cell_type": "code",
   "execution_count": 3,
   "id": "042ebaba",
   "metadata": {},
   "outputs": [],
   "source": [
    "import pandas as pd\n",
    "\n",
    "df = pd.DataFrame({'name' : ['Lee, Jiwon', 'Ahn, Hyungjoo','Jung, Seunguk'],\n",
    "                   'year_univ' : ['Senior', 'Senior', 'Senior'],\n",
    "                   'age' : [24, 25, 24],\n",
    "                   'hobby' : ['travel', 'hiking', 'violin'],\n",
    "                   'nationality' : ['Korea', 'Korea', 'Korea']\n",
    "                  })"
   ]
  },
  {
   "cell_type": "code",
   "execution_count": 4,
   "id": "531925fd",
   "metadata": {},
   "outputs": [
    {
     "data": {
      "text/html": [
       "<div>\n",
       "<style scoped>\n",
       "    .dataframe tbody tr th:only-of-type {\n",
       "        vertical-align: middle;\n",
       "    }\n",
       "\n",
       "    .dataframe tbody tr th {\n",
       "        vertical-align: top;\n",
       "    }\n",
       "\n",
       "    .dataframe thead th {\n",
       "        text-align: right;\n",
       "    }\n",
       "</style>\n",
       "<table border=\"1\" class=\"dataframe\">\n",
       "  <thead>\n",
       "    <tr style=\"text-align: right;\">\n",
       "      <th></th>\n",
       "      <th>name</th>\n",
       "      <th>year_univ</th>\n",
       "      <th>age</th>\n",
       "      <th>hobby</th>\n",
       "      <th>nationality</th>\n",
       "    </tr>\n",
       "  </thead>\n",
       "  <tbody>\n",
       "    <tr>\n",
       "      <th>0</th>\n",
       "      <td>Lee, Jiwon</td>\n",
       "      <td>Senior</td>\n",
       "      <td>24</td>\n",
       "      <td>travel</td>\n",
       "      <td>Korea</td>\n",
       "    </tr>\n",
       "    <tr>\n",
       "      <th>1</th>\n",
       "      <td>Ahn, Hyungjoo</td>\n",
       "      <td>Senior</td>\n",
       "      <td>25</td>\n",
       "      <td>hiking</td>\n",
       "      <td>Korea</td>\n",
       "    </tr>\n",
       "    <tr>\n",
       "      <th>2</th>\n",
       "      <td>Jung, Seunguk</td>\n",
       "      <td>Senior</td>\n",
       "      <td>24</td>\n",
       "      <td>violin</td>\n",
       "      <td>Korea</td>\n",
       "    </tr>\n",
       "  </tbody>\n",
       "</table>\n",
       "</div>"
      ],
      "text/plain": [
       "            name year_univ  age   hobby nationality\n",
       "0     Lee, Jiwon    Senior   24  travel       Korea\n",
       "1  Ahn, Hyungjoo    Senior   25  hiking       Korea\n",
       "2  Jung, Seunguk    Senior   24  violin       Korea"
      ]
     },
     "execution_count": 4,
     "metadata": {},
     "output_type": "execute_result"
    }
   ],
   "source": [
    "df"
   ]
  },
  {
   "cell_type": "markdown",
   "id": "fad88e63",
   "metadata": {},
   "source": [
    "#### Define a new index "
   ]
  },
  {
   "cell_type": "code",
   "execution_count": 9,
   "id": "0c413849",
   "metadata": {},
   "outputs": [
    {
     "data": {
      "text/html": [
       "<div>\n",
       "<style scoped>\n",
       "    .dataframe tbody tr th:only-of-type {\n",
       "        vertical-align: middle;\n",
       "    }\n",
       "\n",
       "    .dataframe tbody tr th {\n",
       "        vertical-align: top;\n",
       "    }\n",
       "\n",
       "    .dataframe thead th {\n",
       "        text-align: right;\n",
       "    }\n",
       "</style>\n",
       "<table border=\"1\" class=\"dataframe\">\n",
       "  <thead>\n",
       "    <tr style=\"text-align: right;\">\n",
       "      <th></th>\n",
       "      <th>year_univ</th>\n",
       "      <th>age</th>\n",
       "      <th>hobby</th>\n",
       "      <th>nationality</th>\n",
       "    </tr>\n",
       "    <tr>\n",
       "      <th>name</th>\n",
       "      <th></th>\n",
       "      <th></th>\n",
       "      <th></th>\n",
       "      <th></th>\n",
       "    </tr>\n",
       "  </thead>\n",
       "  <tbody>\n",
       "    <tr>\n",
       "      <th>Lee, Jiwon</th>\n",
       "      <td>Senior</td>\n",
       "      <td>24</td>\n",
       "      <td>travel</td>\n",
       "      <td>Korea</td>\n",
       "    </tr>\n",
       "    <tr>\n",
       "      <th>Ahn, Hyungjoo</th>\n",
       "      <td>Senior</td>\n",
       "      <td>25</td>\n",
       "      <td>hiking</td>\n",
       "      <td>Korea</td>\n",
       "    </tr>\n",
       "    <tr>\n",
       "      <th>Jung, Seunguk</th>\n",
       "      <td>Senior</td>\n",
       "      <td>24</td>\n",
       "      <td>violin</td>\n",
       "      <td>Korea</td>\n",
       "    </tr>\n",
       "  </tbody>\n",
       "</table>\n",
       "</div>"
      ],
      "text/plain": [
       "              year_univ  age   hobby nationality\n",
       "name                                            \n",
       "Lee, Jiwon       Senior   24  travel       Korea\n",
       "Ahn, Hyungjoo    Senior   25  hiking       Korea\n",
       "Jung, Seunguk    Senior   24  violin       Korea"
      ]
     },
     "execution_count": 9,
     "metadata": {},
     "output_type": "execute_result"
    }
   ],
   "source": [
    "df.index = df.name\n",
    "df.drop(['name'], axis=1, inplace=True)\n",
    "df"
   ]
  },
  {
   "cell_type": "markdown",
   "id": "bfebbf9e",
   "metadata": {},
   "source": [
    "#### Save a file as .csv format"
   ]
  },
  {
   "cell_type": "code",
   "execution_count": 13,
   "id": "81580a38",
   "metadata": {},
   "outputs": [],
   "source": [
    "df.to_csv('C:/Users/cdbre/Desktop/MyLife/2022-2/ML/Week2_practice.csv')"
   ]
  },
  {
   "cell_type": "markdown",
   "id": "0da17555",
   "metadata": {},
   "source": [
    "#### Load csv file back to python"
   ]
  },
  {
   "cell_type": "code",
   "execution_count": 14,
   "id": "563314d3",
   "metadata": {},
   "outputs": [
    {
     "data": {
      "text/html": [
       "<div>\n",
       "<style scoped>\n",
       "    .dataframe tbody tr th:only-of-type {\n",
       "        vertical-align: middle;\n",
       "    }\n",
       "\n",
       "    .dataframe tbody tr th {\n",
       "        vertical-align: top;\n",
       "    }\n",
       "\n",
       "    .dataframe thead th {\n",
       "        text-align: right;\n",
       "    }\n",
       "</style>\n",
       "<table border=\"1\" class=\"dataframe\">\n",
       "  <thead>\n",
       "    <tr style=\"text-align: right;\">\n",
       "      <th></th>\n",
       "      <th>name</th>\n",
       "      <th>year_univ</th>\n",
       "      <th>age</th>\n",
       "      <th>hobby</th>\n",
       "      <th>nationality</th>\n",
       "    </tr>\n",
       "  </thead>\n",
       "  <tbody>\n",
       "    <tr>\n",
       "      <th>0</th>\n",
       "      <td>Lee, Jiwon</td>\n",
       "      <td>Senior</td>\n",
       "      <td>24</td>\n",
       "      <td>travel</td>\n",
       "      <td>Korea</td>\n",
       "    </tr>\n",
       "    <tr>\n",
       "      <th>1</th>\n",
       "      <td>Ahn, Hyungjoo</td>\n",
       "      <td>Senior</td>\n",
       "      <td>25</td>\n",
       "      <td>hiking</td>\n",
       "      <td>Korea</td>\n",
       "    </tr>\n",
       "    <tr>\n",
       "      <th>2</th>\n",
       "      <td>Jung, Seunguk</td>\n",
       "      <td>Senior</td>\n",
       "      <td>24</td>\n",
       "      <td>violin</td>\n",
       "      <td>Korea</td>\n",
       "    </tr>\n",
       "  </tbody>\n",
       "</table>\n",
       "</div>"
      ],
      "text/plain": [
       "            name year_univ  age   hobby nationality\n",
       "0     Lee, Jiwon    Senior   24  travel       Korea\n",
       "1  Ahn, Hyungjoo    Senior   25  hiking       Korea\n",
       "2  Jung, Seunguk    Senior   24  violin       Korea"
      ]
     },
     "execution_count": 14,
     "metadata": {},
     "output_type": "execute_result"
    }
   ],
   "source": [
    "df_new = pd.read_csv('C:/Users/cdbre/Desktop/MyLife/2022-2/ML/Week2_practice.csv')\n",
    "df_new"
   ]
  },
  {
   "cell_type": "markdown",
   "id": "d9259912",
   "metadata": {},
   "source": [
    "#### Try some methods"
   ]
  },
  {
   "cell_type": "code",
   "execution_count": 26,
   "id": "cb3985e8",
   "metadata": {},
   "outputs": [
    {
     "name": "stdout",
     "output_type": "stream",
     "text": [
      "count\n",
      " name           3\n",
      "year_univ      3\n",
      "age            3\n",
      "hobby          3\n",
      "nationality    3\n",
      "dtype: int64\n"
     ]
    }
   ],
   "source": [
    "# Null이 아닌 값의 수\n",
    "print('count\\n', df_new.count())"
   ]
  },
  {
   "cell_type": "code",
   "execution_count": 28,
   "id": "5620e232",
   "metadata": {},
   "outputs": [
    {
     "name": "stdout",
     "output_type": "stream",
     "text": [
      "nunique\n",
      " name           3\n",
      "year_univ      1\n",
      "age            2\n",
      "hobby          3\n",
      "nationality    1\n",
      "dtype: int64\n"
     ]
    }
   ],
   "source": [
    "# 중복된 값 빼고 \n",
    "print('nunique\\n', df_new.nunique())"
   ]
  },
  {
   "cell_type": "code",
   "execution_count": 33,
   "id": "3f639114",
   "metadata": {},
   "outputs": [
    {
     "name": "stdout",
     "output_type": "stream",
     "text": [
      "sum\n",
      " 73\n",
      "mean\n",
      " 24.333333333333332 \n",
      "\n",
      "median\n",
      " 24.0 \n",
      "\n",
      "min\n",
      " 24 \n",
      "\n",
      "idxmin\n",
      " 0 \n",
      "\n",
      "max\n",
      " 25 \n",
      "\n",
      "idxmax\n",
      " 1 \n",
      "\n",
      "abs\n",
      " 0    24\n",
      "1    25\n",
      "2    24\n",
      "Name: age, dtype: int64 \n",
      "\n",
      "std\n",
      " 0.5773502691896258 \n",
      "\n",
      "var\n",
      " 0.33333333333333337 \n",
      "\n"
     ]
    }
   ],
   "source": [
    "# 칼럼 합\n",
    "print('sum\\n', df_new.age.sum())\n",
    "\n",
    "# 칼럼 평균\n",
    "print('mean\\n', df_new.age.mean(), '\\n')\n",
    "\n",
    "# 칼럼 중위수\n",
    "print('median\\n', df_new.age.median(), '\\n')\n",
    "\n",
    "# 칼럼 최소값\n",
    "print('min\\n', df_new.age.min(), '\\n')\n",
    "\n",
    "# 최소값을 가진 인덱스\n",
    "print('idxmin\\n', df_new.age.idxmin(), '\\n')\n",
    "\n",
    "# 칼럼 최대값\n",
    "print('max\\n', df_new.age.max(), '\\n')\n",
    "\n",
    "# 최대값을 가진 인덱스\n",
    "print('idxmax\\n', df_new.age.idxmax(), '\\n')\n",
    "\n",
    "# 절대값\n",
    "print('abs\\n', df_new.age.abs(), '\\n')\n",
    "\n",
    "# 표준편차\n",
    "print('std\\n', df_new.age.std(), '\\n')\n",
    "\n",
    "# 분산\n",
    "print('var\\n', df_new.age.var(), '\\n')"
   ]
  }
 ],
 "metadata": {
  "kernelspec": {
   "display_name": "Python 3 (ipykernel)",
   "language": "python",
   "name": "python3"
  },
  "language_info": {
   "codemirror_mode": {
    "name": "ipython",
    "version": 3
   },
   "file_extension": ".py",
   "mimetype": "text/x-python",
   "name": "python",
   "nbconvert_exporter": "python",
   "pygments_lexer": "ipython3",
   "version": "3.9.12"
  }
 },
 "nbformat": 4,
 "nbformat_minor": 5
}
