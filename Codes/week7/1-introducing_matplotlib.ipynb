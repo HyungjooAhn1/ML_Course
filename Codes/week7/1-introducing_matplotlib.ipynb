{
  "cells": [
    {
      "cell_type": "markdown",
      "metadata": {
        "id": "81eU0bt_Cnc6"
      },
      "source": [
        "# Getting Started with Matplotlib\n",
        "\n",
        "Pandas uses `matplotlib` to create visualizations. Therefore, before we learn how to plot with `pandas`, it's important to understand how `matplotlib` works at a high-level, which is the focus of this notebook.\n",
        "\n",
        "\n",
        "## About the Data\n",
        "In this notebook, we will be working with 2 datasets:\n",
        "- Facebook's stock price throughout 2018 (obtained using the [`stock_analysis` package](https://github.com/stefmolin/stock-analysis))\n",
        "- Earthquake data from September 18, 2018 - October 13, 2018 (obtained from the US Geological Survey (USGS) using the [USGS API](https://earthquake.usgs.gov/fdsnws/event/1/))\n",
        "\n",
        "## Setup\n",
        "We need to import `matplotlib.pyplot` for plotting."
      ]
    },
    {
      "cell_type": "code",
      "execution_count": 1,
      "metadata": {
        "id": "9vHJt4UECnc-"
      },
      "outputs": [],
      "source": [
        "import matplotlib.pyplot as plt\n",
        "import pandas as pd"
      ]
    },
    {
      "cell_type": "code",
      "source": [
        "from google.colab import drive\n",
        "drive.mount('/content/drive')"
      ],
      "metadata": {
        "id": "1poDSBdEDASJ",
        "outputId": "521cf86a-d06b-4e63-f477-26d2814b06d0",
        "colab": {
          "base_uri": "https://localhost:8080/"
        }
      },
      "execution_count": 2,
      "outputs": [
        {
          "output_type": "stream",
          "name": "stdout",
          "text": [
            "Mounted at /content/drive\n"
          ]
        }
      ]
    },
    {
      "cell_type": "code",
      "source": [
        "ROOT = '/content/drive/MyDrive/Hands-On-Data-Analysis-with-Pandas-2nd-edition/ch_05/'"
      ],
      "metadata": {
        "id": "KCESQw6HDD0d"
      },
      "execution_count": 3,
      "outputs": []
    },
    {
      "cell_type": "markdown",
      "metadata": {
        "id": "C__N1QQQCnc_"
      },
      "source": [
        "## Plotting lines"
      ]
    },
    {
      "cell_type": "code",
      "execution_count": 4,
      "metadata": {
        "id": "OcbpGtSDCndA",
        "outputId": "b29c937e-9896-4c02-9abe-e21c07e31c35",
        "colab": {
          "base_uri": "https://localhost:8080/",
          "height": 269
        }
      },
      "outputs": [
        {
          "output_type": "display_data",
          "data": {
            "text/plain": [
              "<Figure size 432x288 with 1 Axes>"
            ],
            "image/png": "[encoded data removed]"
          },
          "metadata": {
            "needs_background": "light"
          }
        }
      ],
      "source": [
        "fb = pd.read_csv(\n",
        "    ROOT + 'data/fb_stock_prices_2018.csv', index_col='date', parse_dates=True\n",
        ")\n",
        "\n",
        "plt.plot(fb.index, fb.open)\n",
        "plt.show()"
      ]
    },
    {
      "cell_type": "code",
      "source": [
        "fb.head()"
      ],
      "metadata": {
        "id": "IrPjGEUKDkGC",
        "outputId": "a34a2afd-1631-468c-f05b-dbc7dcd91262",
        "colab": {
          "base_uri": "https://localhost:8080/",
          "height": 237
        }
      },
      "execution_count": 6,
      "outputs": [
        {
          "output_type": "execute_result",
          "data": {
            "text/plain": [
              "              open    high       low   close    volume\n",
              "date                                                  \n",
              "2018-01-02  177.68  181.58  177.5500  181.42  18151903\n",
              "2018-01-03  181.88  184.78  181.3300  184.67  16886563\n",
              "2018-01-04  184.90  186.21  184.0996  184.33  13880896\n",
              "2018-01-05  185.59  186.90  184.9300  186.85  13574535\n",
              "2018-01-08  187.20  188.90  186.3300  188.28  17994726"
            ],
            "text/html": [
              "\n",
              "  <div id=\"df-1f5b6ea0-4b5c-46c3-901a-58d373023450\">\n",
              "    <div class=\"colab-df-container\">\n",
              "      <div>\n",
              "<style scoped>\n",
              "    .dataframe tbody tr th:only-of-type {\n",
              "        vertical-align: middle;\n",
              "    }\n",
              "\n",
              "    .dataframe tbody tr th {\n",
              "        vertical-align: top;\n",
              "    }\n",
              "\n",
              "    .dataframe thead th {\n",
              "        text-align: right;\n",
              "    }\n",
              "</style>\n",
              "<table border=\"1\" class=\"dataframe\">\n",
              "  <thead>\n",
              "    <tr style=\"text-align: right;\">\n",
              "      <th></th>\n",
              "      <th>open</th>\n",
              "      <th>high</th>\n",
              "      <th>low</th>\n",
              "      <th>close</th>\n",
              "      <th>volume</th>\n",
              "    </tr>\n",
              "    <tr>\n",
              "      <th>date</th>\n",
              "      <th></th>\n",
              "      <th></th>\n",
              "      <th></th>\n",
              "      <th></th>\n",
              "      <th></th>\n",
              "    </tr>\n",
              "  </thead>\n",
              "  <tbody>\n",
              "    <tr>\n",
              "      <th>2018-01-02</th>\n",
              "      <td>177.68</td>\n",
              "      <td>181.58</td>\n",
              "      <td>177.5500</td>\n",
              "      <td>181.42</td>\n",
              "      <td>18151903</td>\n",
              "    </tr>\n",
              "    <tr>\n",
              "      <th>2018-01-03</th>\n",
              "      <td>181.88</td>\n",
              "      <td>184.78</td>\n",
              "      <td>181.3300</td>\n",
              "      <td>184.67</td>\n",
              "      <td>16886563</td>\n",
              "    </tr>\n",
              "    <tr>\n",
              "      <th>2018-01-04</th>\n",
              "      <td>184.90</td>\n",
              "      <td>186.21</td>\n",
              "      <td>184.0996</td>\n",
              "      <td>184.33</td>\n",
              "      <td>13880896</td>\n",
              "    </tr>\n",
              "    <tr>\n",
              "      <th>2018-01-05</th>\n",
              "      <td>185.59</td>\n",
              "      <td>186.90</td>\n",
              "      <td>184.9300</td>\n",
              "      <td>186.85</td>\n",
              "      <td>13574535</td>\n",
              "    </tr>\n",
              "    <tr>\n",
              "      <th>2018-01-08</th>\n",
              "      <td>187.20</td>\n",
              "      <td>188.90</td>\n",
              "      <td>186.3300</td>\n",
              "      <td>188.28</td>\n",
              "      <td>17994726</td>\n",
              "    </tr>\n",
              "  </tbody>\n",
              "</table>\n",
              "</div>\n",
              "      <button class=\"colab-df-convert\" onclick=\"convertToInteractive('df-1f5b6ea0-4b5c-46c3-901a-58d373023450')\"\n",
              "              title=\"Convert this dataframe to an interactive table.\"\n",
              "              style=\"display:none;\">\n",
              "        \n",
              "  <svg xmlns=\"http://www.w3.org/2000/svg\" height=\"24px\"viewBox=\"0 0 24 24\"\n",
              "       width=\"24px\">\n",
              "    <path d=\"M0 0h24v24H0V0z\" fill=\"none\"/>\n",
              "    <path d=\"M18.56 5.44l.94 2.06.94-2.06 2.06-.94-2.06-.94-.94-2.06-.94 2.06-2.06.94zm-11 1L8.5 8.5l.94-2.06 2.06-.94-2.06-.94L8.5 2.5l-.94 2.06-2.06.94zm10 10l.94 2.06.94-2.06 2.06-.94-2.06-.94-.94-2.06-.94 2.06-2.06.94z\"/><path d=\"M17.41 7.96l-1.37-1.37c-.4-.4-.92-.59-1.43-.59-.52 0-1.04.2-1.43.59L10.3 9.45l-7.72 7.72c-.78.78-.78 2.05 0 2.83L4 21.41c.39.39.9.59 1.41.59.51 0 1.02-.2 1.41-.59l7.78-7.78 2.81-2.81c.8-.78.8-2.07 0-2.86zM5.41 20L4 18.59l7.72-7.72 1.47 1.35L5.41 20z\"/>\n",
              "  </svg>\n",
              "      </button>\n",
              "      \n",
              "  <style>\n",
              "    .colab-df-container {\n",
              "      display:flex;\n",
              "      flex-wrap:wrap;\n",
              "      gap: 12px;\n",
              "    }\n",
              "\n",
              "    .colab-df-convert {\n",
              "      background-color: #E8F0FE;\n",
              "      border: none;\n",
              "      border-radius: 50%;\n",
              "      cursor: pointer;\n",
              "      display: none;\n",
              "      fill: #1967D2;\n",
              "      height: 32px;\n",
              "      padding: 0 0 0 0;\n",
              "      width: 32px;\n",
              "    }\n",
              "\n",
              "    .colab-df-convert:hover {\n",
              "      background-color: #E2EBFA;\n",
              "      box-shadow: 0px 1px 2px rgba(60, 64, 67, 0.3), 0px 1px 3px 1px rgba(60, 64, 67, 0.15);\n",
              "      fill: #174EA6;\n",
              "    }\n",
              "\n",
              "    [theme=dark] .colab-df-convert {\n",
              "      background-color: #3B4455;\n",
              "      fill: #D2E3FC;\n",
              "    }\n",
              "\n",
              "    [theme=dark] .colab-df-convert:hover {\n",
              "      background-color: #434B5C;\n",
              "      box-shadow: 0px 1px 3px 1px rgba(0, 0, 0, 0.15);\n",
              "      filter: drop-shadow(0px 1px 2px rgba(0, 0, 0, 0.3));\n",
              "      fill: #FFFFFF;\n",
              "    }\n",
              "  </style>\n",
              "\n",
              "      <script>\n",
              "        const buttonEl =\n",
              "          document.querySelector('#df-1f5b6ea0-4b5c-46c3-901a-58d373023450 button.colab-df-convert');\n",
              "        buttonEl.style.display =\n",
              "          google.colab.kernel.accessAllowed ? 'block' : 'none';\n",
              "\n",
              "        async function convertToInteractive(key) {\n",
              "          const element = document.querySelector('#df-1f5b6ea0-4b5c-46c3-901a-58d373023450');\n",
              "          const dataTable =\n",
              "            await google.colab.kernel.invokeFunction('convertToInteractive',\n",
              "                                                     [key], {});\n",
              "          if (!dataTable) return;\n",
              "\n",
              "          const docLinkHtml = 'Like what you see? Visit the ' +\n",
              "            '<a target=\"_blank\" href=https://colab.research.google.com/notebooks/data_table.ipynb>data table notebook</a>'\n",
              "            + ' to learn more about interactive tables.';\n",
              "          element.innerHTML = '';\n",
              "          dataTable['output_type'] = 'display_data';\n",
              "          await google.colab.output.renderOutput(dataTable, element);\n",
              "          const docLink = document.createElement('div');\n",
              "          docLink.innerHTML = docLinkHtml;\n",
              "          element.appendChild(docLink);\n",
              "        }\n",
              "      </script>\n",
              "    </div>\n",
              "  </div>\n",
              "  "
            ]
          },
          "metadata": {},
          "execution_count": 6
        }
      ]
    },
    {
      "cell_type": "markdown",
      "metadata": {
        "id": "HOqfgny8CndB"
      },
      "source": [
        "Since we are working in a Jupyter notebook, we can use the magic command `%matplotlib inline` once and not have to call `plt.show()` for each plot."
      ]
    },
    {
      "cell_type": "code",
      "execution_count": 5,
      "metadata": {
        "id": "59hMn3AdCndB",
        "outputId": "897c10a0-d03b-45cf-b467-9df832d38919",
        "colab": {
          "base_uri": "https://localhost:8080/",
          "height": 287
        }
      },
      "outputs": [
        {
          "output_type": "execute_result",
          "data": {
            "text/plain": [
              "[<matplotlib.lines.Line2D at 0x7fe63dcb3fd0>]"
            ]
          },
          "metadata": {},
          "execution_count": 5
        },
        {
          "output_type": "display_data",
          "data": {
            "text/plain": [
              "<Figure size 432x288 with 1 Axes>"
            ],
            "image/png": "[encoded data removed]"
          },
          "metadata": {
            "needs_background": "light"
          }
        }
      ],
      "source": [
        "%matplotlib inline\n",
        "import matplotlib.pyplot as plt\n",
        "import pandas as pd\n",
        "\n",
        "fb = pd.read_csv(\n",
        "    ROOT + 'data/fb_stock_prices_2018.csv', index_col='date', parse_dates=True\n",
        ")\n",
        "plt.plot(fb.index, fb.open)"
      ]
    },
    {
      "cell_type": "markdown",
      "metadata": {
        "id": "YBNxVItZCndC"
      },
      "source": [
        "## Scatter plots"
      ]
    },
    {
      "cell_type": "markdown",
      "metadata": {
        "id": "IyM93wEoCndC"
      },
      "source": [
        "We can pass in a string specifying the style of the plot. This is of the form `[marker][linestyle][color]`. For example, we can make a black dashed line with `'--k'` or a red scatter plot with `'or'`:"
      ]
    },
    {
      "cell_type": "code",
      "execution_count": 7,
      "metadata": {
        "id": "wBa-s0ANCndD",
        "outputId": "33e665eb-1d0a-4cc4-ea50-b6c45b66d131",
        "colab": {
          "base_uri": "https://localhost:8080/",
          "height": 283
        }
      },
      "outputs": [
        {
          "output_type": "execute_result",
          "data": {
            "text/plain": [
              "[<matplotlib.lines.Line2D at 0x7fe63ce4ef90>]"
            ]
          },
          "metadata": {},
          "execution_count": 7
        },
        {
          "output_type": "display_data",
          "data": {
            "text/plain": [
              "<Figure size 432x288 with 1 Axes>"
            ],
            "image/png": "[encoded data removed]"
          },
          "metadata": {
            "needs_background": "light"
          }
        }
      ],
      "source": [
        "plt.plot('high', 'low', 'or', data=fb.head(20))"
      ]
    },
    {
      "cell_type": "markdown",
      "metadata": {
        "id": "dCvBD9IiCndD"
      },
      "source": [
        "Here are some examples of how you make a format string:\n",
        "\n",
        "| Marker | Linestyle | Color | Format String | Result |\n",
        "| :---: | :---: | :---: | :---: | --- |\n",
        "| | `-` | `b` | `-b` | blue solid line|\n",
        "| `.` |  | `k` | `.k` | black points|\n",
        "|  | `--` | `r` | `--r` | red dashed line|\n",
        "| `o` | `-` | `g` | `o-g` | green solid line with circles|\n",
        "| | `:` | `m` | `:m` | magenta dotted line|\n",
        "|`x` | `-.` | `c` | `x-.c` | cyan dot-dashed line with x's|\n",
        " \n",
        "Note that we can also use format strings of the form `[color][marker][linestyle]`, but the parsing by `matplotlib` (in rare cases) might not be what we were aiming for. Consult the *Notes* section in the [documentation](https://matplotlib.org/api/_as_gen/matplotlib.pyplot.plot.html) for the complete list of options.\n",
        "## Histograms"
      ]
    },
    {
      "cell_type": "code",
      "execution_count": 8,
      "metadata": {
        "id": "DIZTDV2-CndD",
        "outputId": "c24274e0-0c44-4c22-9e78-2ba8f2675fd1",
        "colab": {
          "base_uri": "https://localhost:8080/",
          "height": 356
        }
      },
      "outputs": [
        {
          "output_type": "execute_result",
          "data": {
            "text/plain": [
              "(array([6.400e+01, 4.450e+02, 1.137e+03, 1.853e+03, 2.114e+03, 8.070e+02,\n",
              "        2.800e+02, 9.200e+01, 9.000e+00, 2.000e+00]),\n",
              " array([-1.26 , -0.624,  0.012,  0.648,  1.284,  1.92 ,  2.556,  3.192,\n",
              "         3.828,  4.464,  5.1  ]),\n",
              " <a list of 10 Patch objects>)"
            ]
          },
          "metadata": {},
          "execution_count": 8
        },
        {
          "output_type": "display_data",
          "data": {
            "text/plain": [
              "<Figure size 432x288 with 1 Axes>"
            ],
            "image/png": "[encoded data removed]"
          },
          "metadata": {
            "needs_background": "light"
          }
        }
      ],
      "source": [
        "quakes = pd.read_csv(ROOT + 'data/earthquakes.csv')\n",
        "plt.hist(quakes.query('magType == \"ml\"').mag)"
      ]
    },
    {
      "cell_type": "markdown",
      "metadata": {
        "id": "0KP6DoUsCndE"
      },
      "source": [
        "### Bin size matters\n",
        "Notice how our assumptions of the distribution of the data can change based on the number of bins (look at the drop between the two highest peaks on the righthand plot):"
      ]
    },
    {
      "cell_type": "code",
      "execution_count": 9,
      "metadata": {
        "id": "d9z_At3-CndE",
        "outputId": "ed9f50e6-775d-4f81-aa29-40f05d4bed47",
        "colab": {
          "base_uri": "https://localhost:8080/",
          "height": 227
        }
      },
      "outputs": [
        {
          "output_type": "display_data",
          "data": {
            "text/plain": [
              "<Figure size 720x216 with 2 Axes>"
            ],
            "image/png": "[encoded data removed]"
          },
          "metadata": {
            "needs_background": "light"
          }
        }
      ],
      "source": [
        "x = quakes.query('magType == \"ml\"').mag\n",
        "fig, axes = plt.subplots(1, 2, figsize=(10, 3))\n",
        "for ax, bins in zip(axes, [7, 35]):\n",
        "    ax.hist(x, bins=bins)\n",
        "    ax.set_title(f'bins param: {bins}')"
      ]
    },
    {
      "cell_type": "markdown",
      "metadata": {
        "id": "aCRd70dUCndE"
      },
      "source": [
        "## Plot components\n",
        "### `Figure`\n",
        "Top-level object that holds the other plot components."
      ]
    },
    {
      "cell_type": "code",
      "execution_count": 10,
      "metadata": {
        "id": "ylGqz-DWCndF",
        "outputId": "fc22d901-1854-451a-d2f6-06f48fdc3fbc",
        "colab": {
          "base_uri": "https://localhost:8080/",
          "height": 35
        }
      },
      "outputs": [
        {
          "output_type": "display_data",
          "data": {
            "text/plain": [
              "<Figure size 432x288 with 0 Axes>"
            ]
          },
          "metadata": {}
        }
      ],
      "source": [
        "fig = plt.figure()"
      ]
    },
    {
      "cell_type": "markdown",
      "metadata": {
        "id": "92wZtN-QCndF"
      },
      "source": [
        "### `Axes`\n",
        "Individual plots contained within the `Figure`.\n",
        "\n",
        "## Creating subplots\n",
        "Simply specify the number of rows and columns to create:"
      ]
    },
    {
      "cell_type": "code",
      "execution_count": 11,
      "metadata": {
        "id": "KmFk7BtICndF",
        "outputId": "43f15a9f-6f4e-4a42-fa84-fc8760af1da6",
        "colab": {
          "base_uri": "https://localhost:8080/",
          "height": 269
        }
      },
      "outputs": [
        {
          "output_type": "display_data",
          "data": {
            "text/plain": [
              "<Figure size 432x288 with 2 Axes>"
            ],
            "image/png": "[encoded data removed]"
          },
          "metadata": {
            "needs_background": "light"
          }
        }
      ],
      "source": [
        "fig, axes = plt.subplots(1, 2)"
      ]
    },
    {
      "cell_type": "code",
      "source": [
        "fig, axes = plt.subplots(1, 2)\n",
        "\n",
        "axes[0].plot(fb.index, fb.open, '-b')\n",
        "axes[1].plot(fb.index, fb.open,  '-r')\n",
        "\n",
        "plt.show()"
      ],
      "metadata": {
        "id": "GwaIyd6hE1Cl",
        "outputId": "f32cc625-fcc2-40ef-d3b5-17c9fbed9136",
        "colab": {
          "base_uri": "https://localhost:8080/",
          "height": 269
        }
      },
      "execution_count": 21,
      "outputs": [
        {
          "output_type": "display_data",
          "data": {
            "text/plain": [
              "<Figure size 432x288 with 2 Axes>"
            ],
            "image/png": "[encoded data removed]"
          },
          "metadata": {
            "needs_background": "light"
          }
        }
      ]
    },
    {
      "cell_type": "markdown",
      "metadata": {
        "id": "GOj7AO4LCndF"
      },
      "source": [
        "As an alternative to using `plt.subplots()` we can add `Axes` objects to the `Figure` object on our own. This allows for some more complex layouts, such as picture in picture:"
      ]
    },
    {
      "cell_type": "code",
      "execution_count": 23,
      "metadata": {
        "id": "QZlepM1NCndF",
        "outputId": "686bffb7-e105-4062-9331-531f66263ad6",
        "colab": {
          "base_uri": "https://localhost:8080/",
          "height": 246
        }
      },
      "outputs": [
        {
          "output_type": "display_data",
          "data": {
            "text/plain": [
              "<Figure size 216x216 with 2 Axes>"
            ],
            "image/png": "[encoded data removed]"
          },
          "metadata": {
            "needs_background": "light"
          }
        }
      ],
      "source": [
        "fig = plt.figure(figsize=(3, 3))\n",
        "outside = fig.add_axes([0.1, 0.1, 0.9, 0.9])\n",
        "inside = fig.add_axes([0.7, 0.7, 0.25, 0.25])\n",
        "\n",
        "outside.plot(fb.index, fb.open, '-r')\n",
        "inside.plot(fb.index, fb.open, '-b')\n",
        "\n",
        "plt.show()"
      ]
    },
    {
      "cell_type": "markdown",
      "metadata": {
        "id": "q78FUqpaCndG"
      },
      "source": [
        "## Creating Plot Layouts with `gridspec`\n",
        "We can create subplots with varying sizes as well:"
      ]
    },
    {
      "cell_type": "code",
      "execution_count": 13,
      "metadata": {
        "id": "bTSiRA61CndG",
        "outputId": "cb2b5e42-3cc0-440e-bda1-d981d7c212a0",
        "colab": {
          "base_uri": "https://localhost:8080/",
          "height": 487
        }
      },
      "outputs": [
        {
          "output_type": "display_data",
          "data": {
            "text/plain": [
              "<Figure size 576x576 with 4 Axes>"
            ],
            "image/png": "[encoded data removed]"
          },
          "metadata": {
            "needs_background": "light"
          }
        }
      ],
      "source": [
        "fig = plt.figure(figsize=(8, 8))\n",
        "gs = fig.add_gridspec(3, 3)\n",
        "top_left = fig.add_subplot(gs[0, 0])\n",
        "mid_left = fig.add_subplot(gs[1, 0])\n",
        "top_right = fig.add_subplot(gs[:2, 1:])\n",
        "bottom = fig.add_subplot(gs[2,:])"
      ]
    },
    {
      "cell_type": "markdown",
      "metadata": {
        "id": "P-sC3jUlCndG"
      },
      "source": [
        "## Saving plots\n",
        "Use `plt.savefig()` to save the last created plot. To save a specific `Figure` object, use its `savefig()` method."
      ]
    },
    {
      "cell_type": "code",
      "execution_count": 14,
      "metadata": {
        "id": "IhEEi9vRCndG"
      },
      "outputs": [],
      "source": [
        "fig.savefig('empty.png')"
      ]
    },
    {
      "cell_type": "markdown",
      "metadata": {
        "id": "8_PEgq79CndH"
      },
      "source": [
        "## Cleaning up\n",
        "It's important to close resources when we are done with them. We use `plt.close()` to do so. If we pass in nothing, it will close the last plot, but we can pass in the specific `Figure` object to close or say `'all'` to close all `Figure` objects that are open. Let's close all the `Figure` objects that are open with `plt.close()`:"
      ]
    },
    {
      "cell_type": "code",
      "execution_count": 15,
      "metadata": {
        "id": "zblDLnCuCndH"
      },
      "outputs": [],
      "source": [
        "plt.close('all')"
      ]
    },
    {
      "cell_type": "markdown",
      "metadata": {
        "id": "15LTWujSCndH"
      },
      "source": [
        "## Additional plotting options\n",
        "### Specifying figure size\n",
        "Just pass the `figsize` argument to `plt.figure()`. It's a tuple of `(width, height)`:"
      ]
    },
    {
      "cell_type": "code",
      "execution_count": 16,
      "metadata": {
        "id": "6Nv7KSIHCndH",
        "outputId": "aff751bd-e4c6-446b-db01-081a9b79c846",
        "colab": {
          "base_uri": "https://localhost:8080/",
          "height": 35
        }
      },
      "outputs": [
        {
          "output_type": "display_data",
          "data": {
            "text/plain": [
              "<Figure size 720x288 with 0 Axes>"
            ]
          },
          "metadata": {}
        }
      ],
      "source": [
        "fig = plt.figure(figsize=(10, 4))"
      ]
    },
    {
      "cell_type": "markdown",
      "metadata": {
        "id": "0v6lWjZbCndH"
      },
      "source": [
        "This can be specified when creating subplots as well:"
      ]
    },
    {
      "cell_type": "code",
      "execution_count": 17,
      "metadata": {
        "id": "V2m4L3rjCndH",
        "outputId": "7cdd0cf3-f7e9-41b0-e64c-1569b89ae10f",
        "colab": {
          "base_uri": "https://localhost:8080/",
          "height": 269
        }
      },
      "outputs": [
        {
          "output_type": "display_data",
          "data": {
            "text/plain": [
              "<Figure size 720x288 with 2 Axes>"
            ],
            "image/png": "[encoded data removed]"
          },
          "metadata": {
            "needs_background": "light"
          }
        }
      ],
      "source": [
        "fig, axes = plt.subplots(1, 2, figsize=(10, 4))"
      ]
    },
    {
      "cell_type": "markdown",
      "metadata": {
        "id": "R-YteOV4CndH"
      },
      "source": [
        "### `rcParams`\n",
        "A small subset of all the available plot settings (shuffling to get a good variation of options):"
      ]
    },
    {
      "cell_type": "code",
      "execution_count": null,
      "metadata": {
        "id": "C9YTMfaLCndH",
        "outputId": "3d7022ce-854f-4eb9-c360-d03f25623c33"
      },
      "outputs": [
        {
          "data": {
            "text/plain": [
              "['axes.axisbelow',\n",
              " 'axes.formatter.limits',\n",
              " 'boxplot.vertical',\n",
              " 'contour.corner_mask',\n",
              " 'date.autoformatter.month',\n",
              " 'legend.labelspacing',\n",
              " 'lines.dashed_pattern',\n",
              " 'lines.dotted_pattern',\n",
              " 'lines.scale_dashes',\n",
              " 'lines.solid_capstyle',\n",
              " 'lines.solid_joinstyle',\n",
              " 'mathtext.tt',\n",
              " 'patch.linewidth',\n",
              " 'pdf.fonttype',\n",
              " 'savefig.jpeg_quality',\n",
              " 'svg.fonttype',\n",
              " 'text.latex.preview',\n",
              " 'toolbar',\n",
              " 'ytick.labelright',\n",
              " 'ytick.minor.size']"
            ]
          },
          "execution_count": 15,
          "metadata": {},
          "output_type": "execute_result"
        }
      ],
      "source": [
        "import random\n",
        "import matplotlib as mpl\n",
        "\n",
        "rcparams_list = list(mpl.rcParams.keys())\n",
        "random.seed(20) # make this repeatable\n",
        "random.shuffle(rcparams_list)\n",
        "sorted(rcparams_list[:20])"
      ]
    },
    {
      "cell_type": "markdown",
      "metadata": {
        "id": "5aPkqlnnCndI"
      },
      "source": [
        "We can check the current default `figsize` using `rcParams`:"
      ]
    },
    {
      "cell_type": "code",
      "execution_count": null,
      "metadata": {
        "id": "Z8ONfbP1CndI",
        "outputId": "9b0910d5-cad5-4b9a-d4a2-8c548fa761dc"
      },
      "outputs": [
        {
          "data": {
            "text/plain": [
              "[6.0, 4.0]"
            ]
          },
          "execution_count": 16,
          "metadata": {},
          "output_type": "execute_result"
        }
      ],
      "source": [
        "mpl.rcParams['figure.figsize']"
      ]
    },
    {
      "cell_type": "markdown",
      "metadata": {
        "id": "ElePsO4ECndI"
      },
      "source": [
        "We can also update this value to change the default (until the kernel is restarted):"
      ]
    },
    {
      "cell_type": "code",
      "execution_count": null,
      "metadata": {
        "id": "lcYdMZVnCndI",
        "outputId": "70317f53-d95e-4ecc-d426-6488d4860ac4"
      },
      "outputs": [
        {
          "data": {
            "text/plain": [
              "[300.0, 10.0]"
            ]
          },
          "execution_count": 17,
          "metadata": {},
          "output_type": "execute_result"
        }
      ],
      "source": [
        "mpl.rcParams['figure.figsize'] = (300, 10)\n",
        "mpl.rcParams['figure.figsize']"
      ]
    },
    {
      "cell_type": "markdown",
      "metadata": {
        "id": "QVGEfeTfCndJ"
      },
      "source": [
        "Use `rcdefaults()` to restore the defaults. Note this is slightly different than before because running `%matplotlib inline` sets a different value for `figsize` ([see more](https://github.com/ipython/ipykernel/blob/master/ipykernel/pylab/config.py#L42-L56)). After we reset, we are going back to the default value of `figsize` before that import:"
      ]
    },
    {
      "cell_type": "code",
      "execution_count": null,
      "metadata": {
        "id": "duxycYG_CndJ",
        "outputId": "fc7d7f35-535e-47c6-c8c3-248382744ac7"
      },
      "outputs": [
        {
          "data": {
            "text/plain": [
              "[6.4, 4.8]"
            ]
          },
          "execution_count": 18,
          "metadata": {},
          "output_type": "execute_result"
        }
      ],
      "source": [
        "mpl.rcdefaults()\n",
        "mpl.rcParams['figure.figsize']"
      ]
    },
    {
      "cell_type": "markdown",
      "metadata": {
        "id": "9H-3MWbgCndJ"
      },
      "source": [
        "This can also be done via `pyplot`:"
      ]
    },
    {
      "cell_type": "code",
      "execution_count": null,
      "metadata": {
        "id": "LY_l__IACndK"
      },
      "outputs": [],
      "source": [
        "plt.rc('figure', figsize=(20, 20)) # change `figsize` default to (20, 20)\n",
        "plt.rcdefaults() # reset the default"
      ]
    },
    {
      "cell_type": "markdown",
      "metadata": {
        "id": "mvoNVtw6CndK"
      },
      "source": [
        "<hr>\n",
        "<div>\n",
        "    <a href=\"../ch_04/4-time_series.ipynb\">\n",
        "        <button>&#8592; Chapter 4</button>\n",
        "    </a>\n",
        "    <a href=\"./2-plotting_with_pandas.ipynb\">\n",
        "        <button style=\"float: right;\">Next Notebook &#8594;</button>\n",
        "    </a>\n",
        "</div>\n",
        "<hr>"
      ]
    }
  ],
  "metadata": {
    "kernelspec": {
      "display_name": "Python 3",
      "language": "python",
      "name": "python3"
    },
    "language_info": {
      "codemirror_mode": {
        "name": "ipython",
        "version": 3
      },
      "file_extension": ".py",
      "mimetype": "text/x-python",
      "name": "python",
      "nbconvert_exporter": "python",
      "pygments_lexer": "ipython3",
      "version": "3.7.3"
    },
    "colab": {
      "provenance": [],
      "machine_shape": "hm"
    },
    "accelerator": "GPU"
  },
  "nbformat": 4,
  "nbformat_minor": 0
}